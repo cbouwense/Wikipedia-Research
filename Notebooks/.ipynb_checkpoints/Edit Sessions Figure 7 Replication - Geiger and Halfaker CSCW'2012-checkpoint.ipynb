{
 "cells": [
  {
   "cell_type": "code",
   "execution_count": 1,
   "metadata": {
    "collapsed": true
   },
   "outputs": [],
   "source": [
    "import numpy as np\n",
    "import matplotlib.pyplot as plt\n",
    "from scipy import stats\n",
    "from datetime import datetime, timedelta\n",
    "\n",
    "%matplotlib inline"
   ]
  },
  {
   "cell_type": "code",
   "execution_count": 2,
   "metadata": {},
   "outputs": [],
   "source": [
    "from pymysql import connect\n",
    "con = connect(host='paws-db', user='cscw', password='cscw', db='enwiki_p')\n",
    "cur = con.cursor()"
   ]
  },
  {
   "cell_type": "code",
   "execution_count": 3,
   "metadata": {
    "collapsed": true
   },
   "outputs": [],
   "source": [
    "class edit_session():\n",
    "    def __init__(self, t):\n",
    "        self.start = t\n",
    "        self.edits = [t]\n",
    "        self.end = t\n",
    "        self.truncate = True\n",
    "        self.time_deltas = []\n",
    "        \n",
    "    def add(self, t):\n",
    "        self.time_deltas.append(t - self.edits[-1])\n",
    "        self.edits.append(t)\n",
    "        self.end = t\n",
    "        \n",
    "    def duration(self):\n",
    "        return((self.end - self.start).seconds + 430)\n",
    "    \n",
    "    def num_edits(self):\n",
    "        return(len(self.edits))"
   ]
  },
  {
   "cell_type": "code",
   "execution_count": null,
   "metadata": {},
   "outputs": [],
   "source": [
    "class user_session ():\n",
    "    def __init__(self, username, monthspec=None, overflowend=False):\n",
    "        con.ping(True)\n",
    "        with con.cursor() as cur:\n",
    "            cur.execute('use enwiki_p;')\n",
    "            cur.execute('select `rev_timestamp` from revision_userindex where `rev_user_text` = %s ORDER BY `rev_timestamp`', username)\n",
    "            edit_times = [x[0].decode('utf-8') for x in cur.fetchall()]\n",
    "\n",
    "            cur.execute('select `ar_timestamp` from archive_userindex where `ar_user_text` = %s  `ORDER BY `ar_timestamp`', username)\n",
    "            archive_times = [x[0].decode('utf-8') for x in cur.fetchall()]\n",
    "            \n",
    "        self.edit_times = edit_times\n",
    "        self.edit_times.extend(archive_times)\n",
    "        self.edit_times.sort()\n",
    "        \n",
    "        self.username = username\n",
    "        \n",
    "        self.get_sessions()\n",
    "        \n",
    "        if monthspec:\n",
    "            if overflowend:\n",
    "                self.sessions = [x for x in self.sessions if str(x.start).replace('-', '')[0:6] == monthspec]\n",
    "            else:\n",
    "                self.edit_times = [x for x in self.edit_times if x[0:6] == monthspec]\n",
    "                self.get_sessions()\n",
    "    \n",
    "    \n",
    "    def get_sessions(self):\n",
    "        sessions = []\n",
    "        session = None\n",
    "        for t in self.edit_times:\n",
    "            t = datetime.strptime(t, '%Y%m%d%H%M%S')\n",
    "            if not session:\n",
    "                session = edit_session(t)\n",
    "            elif t - session.end < timedelta(hours=1): # the between current and previous\n",
    "                session.add(t)\n",
    "            else:\n",
    "                sessions.append(session)\n",
    "                session = edit_session(t)\n",
    "\n",
    "        sessions.append(session)\n",
    "        self.sessions = sessions\n",
    "        \n",
    "    def total_hours(self):\n",
    "        return(sum([x.duration() for x in self.sessions]) / 3600)\n",
    "\n",
    "    def total_sessions(self):\n",
    "        return(len(self.sessions))\n",
    "    \n",
    "    def total_edits(self):\n",
    "        return(sum([x.num_edits() for x in self.sessions]))\n",
    "\n",
    "    def summary(self):\n",
    "        return({'username' : self.username,\n",
    "                'total_hours' : self.total_hours(),\n",
    "                'total_sessions' : self.total_sessions(),\n",
    "                'total_edits' : self.total_edits() })\n"
   ]
  },
  {
   "cell_type": "code",
   "execution_count": null,
   "metadata": {},
   "outputs": [],
   "source": [
    "#con.ping(True)\n",
    "#with con.cursor() as cur:\n",
    "#    cur.execute('use enwiki_p;')\n",
    "#    lots_of_users = cur.execute('SELECT `rev_user_text` FROM revision_userindex LIMIT 10000')"
   ]
  },
  {
   "cell_type": "code",
   "execution_count": null,
   "metadata": {},
   "outputs": [],
   "source": [
    "users = [\"Materialscientist\",\n",
    "         \"Jtmorgan\",\n",
    "         \"Kwamikagami\",\n",
    "         \"TonyTheTiger\",\n",
    "         \"ACP2011\",\n",
    "         \"Pinethicket\",\n",
    "          \"Armbrust\",\n",
    "         \"P.T. Aufrette\",\n",
    "         \"Koavf\",\n",
    "         \"Derek R Bullamore\",\n",
    "         \"MathewTownsend\",\n",
    "         \"Crisco 1492\",\n",
    "         \"Alarbus\"\n",
    "         \"Rich Farmbrough\",\n",
    "         \"Alan Liefting\",\n",
    "         \"BD2412\",\n",
    "         \"Sitush\",\n",
    "         \"DBigXray\",\n",
    "         \"Allens\",\n",
    "         \"Cloudz679\"]\n",
    "\n",
    "for user in users:\n",
    "    print(user_session(user, monthspec=\"201203\", overflowend=True).summary())"
   ]
  },
  {
   "cell_type": "code",
   "execution_count": null,
   "metadata": {
    "collapsed": true
   },
   "outputs": [],
   "source": [
    "\"\"\"\n",
    "{'total_hours': 454.9038888888889, 'total_edits': 7490, 'total_sessions': 59, 'username': 'Materialscientist'}\n",
    "{'total_hours': 66.94111111111111, 'total_edits': 1231, 'total_sessions': 52, 'username': 'Jtmorgan'}\n",
    "{'total_hours': 356.9113888888889, 'total_edits': 9086, 'total_sessions': 80, 'username': 'Kwamikagami'}\n",
    "{'total_hours': 358.51222222222225, 'total_edits': 6302, 'total_sessions': 140, 'username': 'TonyTheTiger'}\n",
    "{'total_hours': 237.5222222222222, 'total_edits': 14613, 'total_sessions': 84, 'username': 'Bgwhite'}\n",
    "{'total_hours': 338.61027777777775, 'total_edits': 2223, 'total_sessions': 111, 'username': 'ACP2011'}\n",
    "{'total_hours': 320.50055555555554, 'total_edits': 3916, 'total_sessions': 91, 'username': 'Pinethicket'}\n",
    "{'total_hours': 312.4475, 'total_edits': 6304, 'total_sessions': 124, 'username': 'Armbrust'}\n",
    "{'total_hours': 307.38, 'total_edits': 6260, 'total_sessions': 115, 'username': 'P.T. Aufrette'}\n",
    "{'total_hours': 302.5469444444444, 'total_edits': 44004, 'total_sessions': 84, 'username': 'Koavf'}\n",
    "{'total_hours': 294.19055555555553, 'total_edits': 4256, 'total_sessions': 89, 'username': 'Derek R Bullamore'}\n",
    "{'total_hours': 290.1525, 'total_edits': 1864, 'total_sessions': 70, 'username': 'MathewTownsend'}\n",
    "{'total_hours': 284.4244444444444, 'total_edits': 2837, 'total_sessions': 118, 'username': 'Crisco 1492'}\n",
    "{'total_hours': 275.67861111111114, 'total_edits': 17177, 'total_sessions': 98, 'username': 'Rich Farmbrough'}\n",
    "{'total_hours': 280.5886111111111, 'total_edits': 6131, 'total_sessions': 80, 'username': 'Alan Liefting'}\n",
    "{'total_hours': 277.6847222222222, 'total_edits': 9922, 'total_sessions': 121, 'username': 'BD2412'}\n",
    "{'total_hours': 270.74944444444446, 'total_edits': 4421, 'total_sessions': 96, 'username': 'Sitush'}\n",
    "{'total_hours': 270.265, 'total_edits': 7405, 'total_sessions': 86, 'username': 'DBigXray'}\n",
    "{'total_hours': 280.6222222222222, 'total_edits': 6984, 'total_sessions': 120, 'username': 'Allens'}\n",
    "{'total_hours': 254.10083333333333, 'total_edits': 9806, 'total_sessions': 112, 'username': 'Cloudz679'}\n",
    "\"\"\""
   ]
  },
  {
   "cell_type": "code",
   "execution_count": 43,
   "metadata": {
    "scrolled": true
   },
   "outputs": [
    {
     "name": "stdout",
     "output_type": "stream",
     "text": [
      "1.8036233504808767\n",
      "1.9191006026889197\n"
     ]
    },
    {
     "data": {
      "image/png": "[encoded data removed]",
      "text/plain": [
       "<matplotlib.figure.Figure at 0x7fbd7dffaba8>"
      ]
     },
     "metadata": {},
     "output_type": "display_data"
    }
   ],
   "source": [
    "import zlib\n",
    "\n",
    "user = user_session('Benjamin Mako Hill')\n",
    "time_deltas = np.array([i.seconds for x in user.sessions for i in x.time_deltas])\n",
    "\n",
    "f, axarr = plt.subplots(2)\n",
    "axarr[0].hist(np.log1p(time_deltas))\n",
    "\n",
    "print(len(zlib.compress(time_deltas)) / len(time_deltas))\n",
    "\n",
    "user = user_session('Jtmorgan')\n",
    "time_deltas = np.array([i.seconds for x in user.sessions for i in x.time_deltas])\n",
    "axarr[1].hist(np.log1p(time_deltas))\n",
    "\n",
    "print(len(zlib.compress(time_deltas)) / len(time_deltas))\n",
    "\n",
    "#stats.entropy(time_deltas)"
   ]
  },
  {
   "cell_type": "code",
   "execution_count": 72,
   "metadata": {},
   "outputs": [],
   "source": [
    "from ipywidgets import interact_manual\n",
    "@interact_manual\n",
    "def do_thing(username='', monthspec='201203'):\n",
    "    print(user_session(username).summary())\n",
    "    print(user_session(username, monthspec).summary())\n",
    "    print(user_session(username, monthspec, overflowend=True).summary())\n",
    "        "
   ]
  }
 ],
 "metadata": {
  "kernelspec": {
   "display_name": "Python 3",
   "language": "python",
   "name": "python3"
  },
  "language_info": {
   "codemirror_mode": {
    "name": "ipython",
    "version": 3
   },
   "file_extension": ".py",
   "mimetype": "text/x-python",
   "name": "python",
   "nbconvert_exporter": "python",
   "pygments_lexer": "ipython3",
   "version": "3.4.3"
  }
 },
 "nbformat": 4,
 "nbformat_minor": 1
}
