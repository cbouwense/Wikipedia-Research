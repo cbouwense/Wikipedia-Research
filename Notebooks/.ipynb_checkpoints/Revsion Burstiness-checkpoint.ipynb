{
 "cells": [
  {
   "cell_type": "code",
   "execution_count": 14,
   "metadata": {
    "collapsed": true
   },
   "outputs": [],
   "source": [
    "\"\"\"\n",
    "Author: Christian Bouwense\n",
    "\n",
    "Program that gets the revision for a page by user for a certain time interval and measures burstiness.\n",
    "\"\"\"\n",
    "\n",
    "import time\n",
    "import random\n",
    "import datetime as dt\n",
    "import mwapi\n",
    "import operator\n",
    "import numpy as np\n",
    "import dateutil.parser as dup\n",
    "from matplotlib import pyplot as plt"
   ]
  },
  {
   "cell_type": "code",
   "execution_count": 10,
   "metadata": {},
   "outputs": [],
   "source": [
    "def generate_sample(continue_short, continue_long, n=10000, small_lower=0, small_upper=0.1, large_lower=500, large_upper=600):\n",
    "    just_did_short = True\n",
    "    # Initiate with a small interevent time \n",
    "    sample = [small_lower + np.mean([small_lower, small_upper])]\n",
    "\n",
    "    for i in range(1, n):\n",
    "        # The random number generate to check if we change type of interevent time (long to short or short to long)\n",
    "        change_chance = random.random()\n",
    "        # If we just did a short interevent time and we rolled a number in the probability to stay, make another small.\n",
    "        # Or, if we just did a long time but we did not roll another long, make a small.\n",
    "        if (just_did_short and change_chance <= continue_short) or (not just_did_short and change_chance > continue_long):\n",
    "            just_did_short = True\n",
    "            sample.append(random.uniform(small_lower, small_upper))\n",
    "        else:\n",
    "            just_did_short = False\n",
    "            sample.append(random.uniform(large_lower, large_upper))\n",
    "            \n",
    "    return sample"
   ]
  },
  {
   "cell_type": "markdown",
   "metadata": {},
   "source": [
    "generate_sample() creates a sample of data based on the constraints given to it; this way I was able to test out my code which implemented Barabasi's formulas to measure burstiness. You can create different sizes of interevent times, and guage how often they should switch (change the effects of memory of the system). You do this by setting the length and probability of short interevent times occuring, and the same for long interevent times.\n",
    "\n",
    "The function takes seven arguments, but they are pretty simple to understand.\n",
    "\n",
    "n: Sample size\n",
    "small_lower: Lower bound of short interevent times.\n",
    "small_upper: Upper bound of short interevent times.\n",
    "large_lower: Lower bound of long interevent times.\n",
    "large_upper: Upper bound of long interevent times.\n",
    "stop_short: Probability that, after a short interevent time, there will be a long interevent time. [0, 1]\n",
    "stop_long: Probability that, after a long interevent time, there will be a short interevent time. [0, 1]\n",
    "print_results: Boolean which defaults to false."
   ]
  },
  {
   "cell_type": "code",
   "execution_count": 20,
   "metadata": {},
   "outputs": [],
   "source": [
    "# Generates sample of data that is bursty due to memory\n",
    "bursty_sample = generate_sample(0.99, 0.99)\n",
    "# Generates sample of data that is not bursty\n",
    "non_bursty_sample = generate_sample(0.5, 0.5)"
   ]
  },
  {
   "cell_type": "code",
   "execution_count": null,
   "metadata": {
    "collapsed": true
   },
   "outputs": [],
   "source": []
  }
 ],
 "metadata": {
  "kernelspec": {
   "display_name": "Python [conda root]",
   "language": "python",
   "name": "conda-root-py"
  },
  "language_info": {
   "codemirror_mode": {
    "name": "ipython",
    "version": 3
   },
   "file_extension": ".py",
   "mimetype": "text/x-python",
   "name": "python",
   "nbconvert_exporter": "python",
   "pygments_lexer": "ipython3",
   "version": "3.6.1"
  }
 },
 "nbformat": 4,
 "nbformat_minor": 2
}
