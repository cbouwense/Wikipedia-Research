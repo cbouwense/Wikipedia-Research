{
 "cells": [
  {
   "cell_type": "code",
   "execution_count": 5,
   "metadata": {},
   "outputs": [
    {
     "data": {
      "image/png": "[encoded data removed]",
      "text/plain": [
       "<matplotlib.figure.Figure at 0x7fedfb9dd400>"
      ]
     },
     "metadata": {},
     "output_type": "display_data"
    }
   ],
   "source": [
    "\"\"\"\n",
    "Program that gets the total number of revisions for a Wikipedia article\n",
    "\"\"\"\n",
    "\n",
    "import mwapi\n",
    "import numpy as np\n",
    "from matplotlib import axes\n",
    "from matplotlib import pyplot as plt\n",
    "\n",
    "article_title = 'The Elder Scrolls III: Morrowind'\n",
    "\n",
    "first_revision_year = 0\n",
    "revisions_by_year = {}\n",
    "\n",
    "# Connect to Wikipedia\n",
    "session = mwapi.Session('https://en.wikipedia.org', user_agent='cbouwense')\n",
    "\n",
    "# Query Wikipedia for revisions on the supplied article\n",
    "# The result is stored into the dictionary \"rev_dict\"\n",
    "rev_dict = session.get(action='query', prop='revisions', rvprop='timestamp', titles=article_title, rvlimit='max')\n",
    "\n",
    "for keys in rev_dict['query']['pages'].keys():\n",
    "    page_id = keys\n",
    "\n",
    "# Find most recent edit year\n",
    "for timestamps in rev_dict['query']['pages'][str(page_id)]['revisions']:\n",
    "    latest_revision_year = timestamps['timestamp'][:4]\n",
    "    revisions_by_year[timestamps['timestamp'][:4]] = 0\n",
    "    break\n",
    "\n",
    "# Go through the timestamps for each revision made.\n",
    "# If the timestamp is already a key in our dictionary, increment that key value by 1.\n",
    "# Else, create a new key for that year in our dictionary and set it to 1\n",
    "for timestamps in rev_dict['query']['pages'][str(page_id)]['revisions']:\n",
    "    if (int(timestamps['timestamp'][:4]) < int(latest_revision_year)):\n",
    "        latest_revision_year = timestamps['timestamp'][:4]\n",
    "        revisions_by_year[timestamps['timestamp'][:4]] = 1\n",
    "    else:\n",
    "        revisions_by_year[timestamps['timestamp'][:4]] += 1\n",
    "    \n",
    "# Check if there is a section named \"continue\".\n",
    "# If there is, that means the query did not get all the data\n",
    "# because of the per-user query limits.\n",
    "while 'continue' in rev_dict:\n",
    "\n",
    "    continue_val = rev_dict['continue']['rvcontinue']\n",
    "    rev_dict = session.get(action='query', prop='revisions', rvprop='timestamp', titles=article_title, rvlimit='max', rvcontinue=continue_val)\n",
    "    \n",
    "    # Go through the timestamps for each revision made.\n",
    "    # If the timestamp is already a key in our dictionary, increment that key value by 1.\n",
    "    # Else, create a new key for that year in our dictionary and set it to 1\n",
    "    for timestamps in rev_dict['query']['pages'][str(page_id)]['revisions']:\n",
    "        if (int(timestamps['timestamp'][:4]) < int(latest_revision_year)):\n",
    "            latest_revision_year = timestamps['timestamp'][:4]\n",
    "            revisions_by_year[timestamps['timestamp'][:4]] = 1\n",
    "        else:\n",
    "            revisions_by_year[timestamps['timestamp'][:4]] += 1\n",
    "\n",
    "# Graph the collected data\n",
    "ind = np.arange(len(list(revisions_by_year.keys())))    # the x locations for the groups\n",
    "width = 0.4       # the width of the bars: can also be len(x) sequence\n",
    "\n",
    "# Flip the values because the dictionary originally has them in descending order of year\n",
    "revision_values = list(revisions_by_year.values())[::-1]\n",
    "\n",
    "plt.figure(figsize=(20, 10))\n",
    "plt.bar(ind, revision_values, width, color='#d62728', linewidth=10)\n",
    "\n",
    "plt.xlabel('Years')\n",
    "plt.ylabel('Revisions')\n",
    "plt.title('Revisions of %s Wikipedia Article' % article_title)\n",
    "plt.xticks(ind, sorted(list(revisions_by_year.keys()), key=int))\n",
    "\n",
    "plt.show()"
   ]
  },
  {
   "cell_type": "code",
   "execution_count": null,
   "metadata": {
    "collapsed": true
   },
   "outputs": [],
   "source": []
  }
 ],
 "metadata": {
  "kernelspec": {
   "display_name": "Python [conda root]",
   "language": "python",
   "name": "conda-root-py"
  },
  "language_info": {
   "codemirror_mode": {
    "name": "ipython",
    "version": 3
   },
   "file_extension": ".py",
   "mimetype": "text/x-python",
   "name": "python",
   "nbconvert_exporter": "python",
   "pygments_lexer": "ipython3",
   "version": "3.6.1"
  }
 },
 "nbformat": 4,
 "nbformat_minor": 2
}
