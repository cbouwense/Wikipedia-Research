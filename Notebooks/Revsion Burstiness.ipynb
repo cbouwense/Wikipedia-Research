{
 "cells": [
  {
   "cell_type": "code",
   "execution_count": 37,
   "metadata": {
    "collapsed": true
   },
   "outputs": [],
   "source": [
    "\"\"\"\n",
    "Author: Christian Bouwense\n",
    "\n",
    "Program that gets the revision for a page by user for a certain time interval and measures burstiness.\n",
    "\"\"\"\n",
    "\n",
    "import time\n",
    "import random\n",
    "import datetime as dt\n",
    "import mwapi\n",
    "import operator\n",
    "import numpy as np\n",
    "import dateutil.parser as dup\n",
    "from matplotlib import pyplot as plt\n",
    "import matplotlib.patches as mpatches"
   ]
  },
  {
   "cell_type": "markdown",
   "metadata": {},
   "source": [
    "get_revisions() is a wrapper for the MWAPI get() call. We are always going to want to query, get revisions, and accept the maximum amount of revisions. However, you can also specify things like the revision properties you want, and the date range you wish to see (and if you don't really care, they have default values)."
   ]
  },
  {
   "cell_type": "code",
   "execution_count": 2,
   "metadata": {
    "collapsed": true
   },
   "outputs": [],
   "source": [
    "def get_revisions(title, rv_prop='timestamp|user', rv_start='today', rv_end='2000-01-01T00:00:00Z'):\n",
    "    # Information specifying article and time interval to look at\n",
    "    title = title\n",
    "    \n",
    "    # We're always going to want these parameters to be the same\n",
    "    action = 'query'\n",
    "    prop = 'revisions'\n",
    "    rv_limit = 'max'\n",
    "    \n",
    "    today = dt.datetime.fromtimestamp(time.time()).strftime('%Y-%m-%dT%H:%M:%SZ')\n",
    "    # User can just give the string \"today\" instead of the timestamp\n",
    "    if rv_start == \"today\":\n",
    "        rv_start = today\n",
    "    else:\n",
    "        rv_start = start_date\n",
    "    \n",
    "    # Temporary dictionary holding amount of revisions for each user\n",
    "    revisions_by_user = {}\n",
    "    \n",
    "    # Connect to Wikipedia\n",
    "    session = mwapi.Session('https://en.wikipedia.org', user_agent='cbouwense')\n",
    "\n",
    "    # Query Wikipedia for revisions on the supplied article\n",
    "    # The result is stored into the dictionary \"rev_dict\"\n",
    "    rev_dict = session.get(action=action,\n",
    "                           prop=prop,\n",
    "                           rvprop=rv_prop,\n",
    "                           titles=title,\n",
    "                           rvlimit=rv_limit,\n",
    "                           rvstart=rv_start,\n",
    "                           rvend=rv_end)\n",
    "    \n",
    "    # Find page_id for selected article\n",
    "    for keys in rev_dict['query']['pages'].keys():\n",
    "        page_id = keys\n",
    "        \n",
    "    # Go through the timestamps for each revision made.\n",
    "    # If the timestamp is already a key in our dictionary, increment that key value by 1.\n",
    "    # Else, create a new key for that year in our dictionary and set it to 1\n",
    "    rev_timestamps = []\n",
    "    for props in rev_dict['query']['pages'][str(page_id)]['revisions']:\n",
    "        if 'user' in props:\n",
    "            if (props['user'] not in revisions_by_user):\n",
    "                revisions_by_user[props['user']] = 1\n",
    "            else:\n",
    "                revisions_by_user[props['user']] += 1\n",
    "\n",
    "        timestamp = dup.parse(props['timestamp'])\n",
    "        rev_timestamps.append(timestamp)\n",
    "        \n",
    "    # Check if there is a section named \"continue\".\n",
    "    # If there is, that means the query did not get all the data\n",
    "    # because of the per-user query limits.\n",
    "    print (\"Retrieving data on %s from Wikipedia...\" % title)\n",
    "    while 'continue' in rev_dict:\n",
    "        continue_val = rev_dict['continue']['rvcontinue']\n",
    "        rev_dict = session.get(action=action,\n",
    "                               prop=prop,\n",
    "                               rvprop=rv_prop,\n",
    "                               titles=title,\n",
    "                               rvlimit=rv_limit,\n",
    "                               rvstart=today,\n",
    "                               rvend=rv_end,\n",
    "                               rvcontinue=continue_val)\n",
    "        for props in rev_dict['query']['pages'][str(page_id)]['revisions']:\n",
    "            if 'user' in props:\n",
    "                if (props['user'] not in revisions_by_user):\n",
    "                    revisions_by_user[props['user']] = 1\n",
    "                else:\n",
    "                    revisions_by_user[props['user']] += 1\n",
    "            timestamp = dup.parse(props['timestamp'])\n",
    "            rev_timestamps.append(timestamp)\n",
    "\n",
    "    # List of tuples of revisions made by user for page\n",
    "    sorted_user_revisions = sorted(revisions_by_user.items(), key=operator.itemgetter(1))[::-1]\n",
    "    \n",
    "    # Enumerate the times between events into a list\n",
    "    interevent_times = []\n",
    "    for i in range(0, len(rev_timestamps)-1):\n",
    "        interevent_times.append((rev_timestamps[i] - rev_timestamps[i+1]).total_seconds())\n",
    "    \n",
    "    # Add data to global dictionaries\n",
    "    article_data[title] = {}\n",
    "    article_data[title]['user_revs'] = sorted_user_revisions\n",
    "    article_data[title]['revision_times'] = rev_timestamps\n",
    "    article_data[title]['interevent_times'] = interevent_times\n",
    "    \n",
    "    print (\"Data received successfully!\")"
   ]
  },
  {
   "cell_type": "markdown",
   "metadata": {},
   "source": [
    "We will use a global dictionary to store the amount of revisions made by single users, and the interevent times for respective articles. They will be manipulated by get_revisions()."
   ]
  },
  {
   "cell_type": "code",
   "execution_count": 3,
   "metadata": {},
   "outputs": [
    {
     "name": "stdout",
     "output_type": "stream",
     "text": [
      "Retrieving data on Game of Thrones from Wikipedia...\n",
      "Data received successfully!\n"
     ]
    }
   ],
   "source": [
    "article_data = {}\n",
    "\n",
    "get_revisions('Game of Thrones')"
   ]
  },
  {
   "cell_type": "markdown",
   "metadata": {},
   "source": [
    "One of the ways of measuring burstiness is analyzing the distribution of the time between events in the system (interevent times). In order to do this, we need to find their mean and standard deviation. Luckily for us, the Python module Numpy has built-in functions for that.\n",
    "\n",
    "The final step is to use the mean and standard deviation. The measure of burstiness by interevent times is defined as follows.\n",
    "\n",
    "$$B \\ \\triangleq\\ \\frac{\\sigma_{\\tau}-m_{\\tau}}{\\sigma_{\\tau}+m_{\\tau}}$$"
   ]
  },
  {
   "cell_type": "code",
   "execution_count": 4,
   "metadata": {
    "collapsed": true
   },
   "outputs": [],
   "source": [
    "def get_B(title):\n",
    "    # Calculate interevent time mean and standard deviation\n",
    "    interevent_mean = (np.mean(article_data[title]['interevent_times']))\n",
    "    interevent_std_dev = (np.std(article_data[title]['interevent_times']))\n",
    "    B = ((interevent_std_dev - interevent_mean) / (interevent_std_dev + interevent_mean))\n",
    "    article_data[title]['B'] = B"
   ]
  },
  {
   "cell_type": "markdown",
   "metadata": {},
   "source": [
    "The value of B ranges from -1 to 1: the closer to -1 the more regular the events occur, closer to 0 means the closer they are to being completely random, and the closer to 1 the more bursty."
   ]
  },
  {
   "cell_type": "code",
   "execution_count": 5,
   "metadata": {},
   "outputs": [
    {
     "name": "stdout",
     "output_type": "stream",
     "text": [
      "0.496263615578\n"
     ]
    }
   ],
   "source": [
    "get_B('Game of Thrones')\n",
    "print (article_data['Game of Thrones']['B'])"
   ]
  },
  {
   "cell_type": "markdown",
   "metadata": {},
   "source": [
    "There is a different angle that we can measure burstiness with: memory. At first it may sound the same but it is actually completely independent of interevent time distribution. Memory means that short interevent times are really likely to happen after short ones, and long ones occur after long ones.  \n",
    "\n",
    "In order to measure this, we will need the mean and standard deviation of interevent times [1, n-1], and [2, n] (assuming a total of n interevent times).\n",
    "\n",
    "The coefficient of burstiness due to memory is defined as\n",
    "\n",
    "$$M \\ \\triangleq\\ \\frac{1}{n_{\\tau} - 1}\\sum_{i=1}^{n_{\\tau}-1} \\frac{(\\tau_{i}-m_{1})(\\tau_{i+1}-m_{2})}{\\sigma_{1}\\sigma_{2}}$$"
   ]
  },
  {
   "cell_type": "code",
   "execution_count": 6,
   "metadata": {
    "collapsed": true
   },
   "outputs": [],
   "source": [
    "def get_M(title):\n",
    "    # Store times in this variable with a much shorter name\n",
    "    times = article_data[title]['interevent_times']\n",
    "    mean_1 = np.mean(times[0:len(times)-1])\n",
    "    mean_2 = np.mean(times[1:len(times)])\n",
    "    std_dev_1 = np.std(times[0:len(times)-1])\n",
    "    std_dev_2 = np.std(times[1:len(times)])\n",
    "    \n",
    "    summation = 0\n",
    "    for i in range(0, len(times)-1):\n",
    "        tau_i = times[i]\n",
    "        tau_i_plus_one = times[i+1]\n",
    "        summation_term = (((tau_i - mean_1) * (tau_i_plus_one - mean_2)) / (std_dev_1 * std_dev_2)) \n",
    "        summation += summation_term\n",
    "\n",
    "    M = (1 / (len(times) - 1)) * summation\n",
    "    \n",
    "    article_data[title]['M'] = M"
   ]
  },
  {
   "cell_type": "code",
   "execution_count": 12,
   "metadata": {},
   "outputs": [
    {
     "name": "stdout",
     "output_type": "stream",
     "text": [
      "0.0932849441348\n"
     ]
    }
   ],
   "source": [
    "get_M('Game of Thrones')\n",
    "print (article_data['Game of Thrones']['M'])"
   ]
  },
  {
   "cell_type": "markdown",
   "metadata": {},
   "source": [
    "Now that we have easy ways to get revision data and statistics from articles, let's do it for a bunch of articles! I have chosen the top 15 articles with respect to number of edits, put them in a list, and get the data for each."
   ]
  },
  {
   "cell_type": "code",
   "execution_count": 8,
   "metadata": {
    "collapsed": true
   },
   "outputs": [],
   "source": [
    "articles = [\n",
    "'George W. Bush',\n",
    "'List of WWE personnel',\n",
    "'United States',\n",
    "'Wikipedia',\n",
    "'Michael Jackson',\n",
    "'Jesus',\n",
    "'Catholic Church',\n",
    "'List of programs broadcast by ABS-CBN',\n",
    "'Donald Trump',\n",
    "'Barack Obama',\n",
    "'Adolf Hitler',\n",
    "'Britney Spears',\n",
    "'World War II',\n",
    "'The Beatles',\n",
    "'India'\n",
    "]"
   ]
  },
  {
   "cell_type": "code",
   "execution_count": 9,
   "metadata": {},
   "outputs": [
    {
     "name": "stdout",
     "output_type": "stream",
     "text": [
      "Getting data for 15 articles.\n",
      "This may take a while!\n",
      "Retrieving data on George W. Bush from Wikipedia...\n",
      "Data received successfully!\n",
      "Retrieving data on List of WWE personnel from Wikipedia...\n",
      "Data received successfully!\n",
      "Retrieving data on United States from Wikipedia...\n",
      "Data received successfully!\n",
      "Retrieving data on Wikipedia from Wikipedia...\n",
      "Data received successfully!\n",
      "Retrieving data on Michael Jackson from Wikipedia...\n",
      "Data received successfully!\n",
      "Retrieving data on Jesus from Wikipedia...\n",
      "Data received successfully!\n",
      "Retrieving data on Catholic Church from Wikipedia...\n",
      "Data received successfully!\n",
      "Retrieving data on List of programs broadcast by ABS-CBN from Wikipedia...\n",
      "Data received successfully!\n",
      "Retrieving data on Donald Trump from Wikipedia...\n",
      "Data received successfully!\n",
      "Retrieving data on Barack Obama from Wikipedia...\n",
      "Data received successfully!\n",
      "Retrieving data on Adolf Hitler from Wikipedia...\n",
      "Data received successfully!\n",
      "Retrieving data on Britney Spears from Wikipedia...\n",
      "Data received successfully!\n",
      "Retrieving data on World War II from Wikipedia...\n",
      "Data received successfully!\n",
      "Retrieving data on The Beatles from Wikipedia...\n",
      "Data received successfully!\n",
      "Retrieving data on India from Wikipedia...\n",
      "Data received successfully!\n"
     ]
    }
   ],
   "source": [
    "print (\"Getting data for 15 articles.\")\n",
    "print (\"This may take a while!\")\n",
    "for article in articles:\n",
    "    get_revisions(article)"
   ]
  },
  {
   "cell_type": "markdown",
   "metadata": {},
   "source": [
    "Now let's visualize the data that we've collected! We're going to use a bar graph of the B and M values for each article we queried. Remember that B and M range from -1 to 1, and the closer to 1 they are the more they contributed to the data's burstiness."
   ]
  },
  {
   "cell_type": "code",
   "execution_count": 39,
   "metadata": {},
   "outputs": [
    {
     "data": {
      "image/png": "[encoded data removed]",
      "text/plain": [
       "<matplotlib.figure.Figure at 0x7fc7c5001cc0>"
      ]
     },
     "metadata": {},
     "output_type": "display_data"
    }
   ],
   "source": [
    "for article in article_data:\n",
    "    get_B(article)\n",
    "    get_M(article)\n",
    "\n",
    "ind = np.arange(len(article_data.keys()))\n",
    "B_vals = []\n",
    "M_vals = []\n",
    "for article in article_data.keys():\n",
    "    B_vals.append(article_data[article]['B'])\n",
    "    M_vals.append(article_data[article]['M'])\n",
    "    \n",
    "width = 0.4\n",
    "fig, ax = plt.subplots()\n",
    "plt.title('B & M of Article Inter-Revision Times', fontsize=26)\n",
    "plt.yticks(ind, article_data.keys(), rotation=0, fontsize=18)\n",
    "plt.xticks(fontsize=18)\n",
    "plt.xlim(-1, 1)\n",
    "plt.xlabel('Burstiness', fontsize=20)\n",
    "\n",
    "ax.barh(ind, B_vals, width, color='#FF9933', label='N')\n",
    "ax.barh(ind + width, M_vals, width, color='#0099CC', label='M')\n",
    "for i in range(0, 10):\n",
    "    ax.axvline(i/10, linestyle='dashed', zorder=0)\n",
    "    \n",
    "\n",
    "orange_patch = mpatches.Patch(color='#FF9933', label='B')\n",
    "blue_patch = mpatches.Patch(color='#0099CC', label='M')\n",
    "plt.legend(handles=[orange_patch, blue_patch])\n",
    "\n",
    "fig.set_size_inches(10, 10)\n",
    "\n",
    "plt.show()"
   ]
  },
  {
   "cell_type": "code",
   "execution_count": null,
   "metadata": {
    "collapsed": true
   },
   "outputs": [],
   "source": []
  }
 ],
 "metadata": {
  "kernelspec": {
   "display_name": "Python [conda root]",
   "language": "python",
   "name": "conda-root-py"
  },
  "language_info": {
   "codemirror_mode": {
    "name": "ipython",
    "version": 3
   },
   "file_extension": ".py",
   "mimetype": "text/x-python",
   "name": "python",
   "nbconvert_exporter": "python",
   "pygments_lexer": "ipython3",
   "version": "3.6.1"
  }
 },
 "nbformat": 4,
 "nbformat_minor": 2
}
