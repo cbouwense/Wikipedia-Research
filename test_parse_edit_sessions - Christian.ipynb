{
 "cells": [
  {
   "cell_type": "code",
   "execution_count": 1,
   "metadata": {},
   "outputs": [],
   "source": [
    "from changed_content_similarity import TextDiff\n",
    "%run functions_wiki.py"
   ]
  },
  {
   "cell_type": "code",
   "execution_count": 2,
   "metadata": {},
   "outputs": [],
   "source": [
    "A = 'Apple is an American company.'\n",
    "B = 'Apple Inc is an American multinational technology company founded in 1978.'\n",
    "C = 'Apple Inc. is an American multinational technology company founded in 1976.'"
   ]
  },
  {
   "cell_type": "code",
   "execution_count": 3,
   "metadata": {},
   "outputs": [],
   "source": [
    "a,b = TextDiff(A,B).getDiff(), TextDiff(B,C).getDiff()"
   ]
  },
  {
   "cell_type": "code",
   "execution_count": 4,
   "metadata": {},
   "outputs": [
    {
     "data": {
      "text/plain": [
       "('{+Inc+} [-company.-] {+multinational technology company founded in 1978.+}',\n",
       " '[-Inc-] {+Inc.+} [-1978.-] {+1976.+}')"
      ]
     },
     "execution_count": 4,
     "metadata": {},
     "output_type": "execute_result"
    }
   ],
   "source": [
    "a,b"
   ]
  },
  {
   "cell_type": "code",
   "execution_count": 5,
   "metadata": {},
   "outputs": [],
   "source": [
    "# ## calculate similarty of two random edits \n",
    "# import random\n",
    "\n",
    "# sample = random.sample(data.index.tolist(), 100)\n",
    "# from itertools import combinations\n",
    "# simi = []\n",
    "# for i, j in combinations(sample,2):\n",
    "#     a, b = TextDiff(data['text'][i-1],data['text'][i]).getDiff(), TextDiff(data['text'][j-1],data['text'][j]).getDiff()\n",
    "#     v1, v2 = text_to_vector(a), text_to_vector(b)\n",
    "#     simi.append(get_cosine(v1,v2))\n",
    "# import matplotlib.pyplot as plt\n",
    "# import seaborn as sns\n",
    "\n",
    "# %matplotlib inline \n",
    "\n",
    "# import matplotlib"
   ]
  },
  {
   "cell_type": "markdown",
   "metadata": {},
   "source": [
    "## Parse top user edit session "
   ]
  },
  {
   "cell_type": "code",
   "execution_count": 6,
   "metadata": {},
   "outputs": [],
   "source": [
    "# data = pd.read_csv(\"../../data/NeXT_5.txt\", sep=\"\\t\")\n",
    "# data['timestamp'] = pd.to_datetime(data['timestamp'])\n",
    "# data = data.sort_values('timestamp').reset_index(drop=True)\n",
    "# data['text'] = data['text'].astype('str')\n",
    "\n",
    "# data.head()"
   ]
  },
  {
   "cell_type": "code",
   "execution_count": 7,
   "metadata": {},
   "outputs": [],
   "source": [
    "def mark_sessionid(x, marker):\n",
    "    'x is user edit timestamp, return session id'\n",
    "    x = x.values\n",
    "    intervals = [61]\n",
    "    for i in range(1, len(x)):\n",
    "        intervals.append((x[i]-x[i-1]).astype('timedelta64[m]').astype(int))\n",
    "    intervals = np.where(np.array(intervals)>marker, 1, 0)\n",
    "    session_id, tmpid = [0], 0\n",
    "    for i in intervals[1:]:\n",
    "        if i > 0:\n",
    "            tmpid += 1\n",
    "        session_id.append(tmpid)\n",
    "    return np.array(session_id)"
   ]
  },
  {
   "cell_type": "code",
   "execution_count": 8,
   "metadata": {},
   "outputs": [],
   "source": [
    "def parse_user_session(file_path, N=3, marker = 60):\n",
    "    data = pd.read_csv(file_path, sep=\"\\t\")\n",
    "    data['timestamp'] = pd.to_datetime(data['timestamp'])\n",
    "    data = data.sort_values('timestamp').reset_index(drop=True)\n",
    "    data['text'] = data['text'].astype('str')\n",
    "#     N = int(np.round(len(set(data['user']))*percent))\n",
    "    sessions = []\n",
    "    top_users = data['user'].value_counts().index.tolist()[:N]\n",
    "    for user in top_users:\n",
    "        print(user)\n",
    "        mask_user = data['user'] == user\n",
    "        tmp = data[mask_user]  # user's edits in tmp dataframe\n",
    "        # mark session id\n",
    "        a = mark_sessionid(tmp['timestamp'], marker)\n",
    "        g = tmp.groupby(a)\n",
    "        for key, df in g:\n",
    "            default = {'username':user, 'session_id':key, 'start':min(df['timestamp']), \n",
    "                       'end':max(df['timestamp']), 'edit_num':len(df)}\n",
    "            index = df.index.tolist()\n",
    "            text1, text2 = data.ix[index[0]-1,'text'], data.ix[index[-1],'text']\n",
    "            default['changed_text'] = TextDiff(text1,text2).getDiff()\n",
    "            default['text_word_num'] = len(default['changed_text'].split(\" \"))\n",
    "            if default['edit_num'] > 1:\n",
    "                default['duration'] = (default['end'] - default['start']).total_seconds()/60  # chansfer into mins\n",
    "            else:\n",
    "                default['duration'] = np.nan\n",
    "            sessions.append(default)\n",
    "    sessions = pd.DataFrame(sessions)\n",
    "    sessions['id'] = sessions['username'] + \"_\" + sessions['session_id'].astype('str')\n",
    "    sessions = sessions.sort_values('start').reset_index(drop=True)\n",
    "    return sessions"
   ]
  },
  {
   "cell_type": "code",
   "execution_count": 9,
   "metadata": {},
   "outputs": [],
   "source": [
    "# def preprocessing(text):\n",
    "#     text = re.sub(r'[^a-zA-Z0-9]', \" \", text)\n",
    "#     text = re.sub(r' +', \" \", text)\n",
    "#     return text\n",
    "# sessions['changed_text'] = sessions['changed_text'].apply(preprocessing)"
   ]
  },
  {
   "cell_type": "code",
   "execution_count": 10,
   "metadata": {},
   "outputs": [],
   "source": [
    "from sklearn.feature_extraction.text import CountVectorizer\n",
    "from sklearn.metrics.pairwise import cosine_similarity\n",
    "import networkx as nx"
   ]
  },
  {
   "cell_type": "code",
   "execution_count": 11,
   "metadata": {},
   "outputs": [],
   "source": [
    "def build_network(sessions, cosine_threshold=0.4):\n",
    "    # mark content similarity \n",
    "    vect = CountVectorizer(lowercase=True,stop_words='english',binary=True).fit(sessions['changed_text'])\n",
    "    vect_matrix = vect.transform(sessions['changed_text']).toarray()\n",
    "    simi = np.where(cosine_similarity(vect_matrix)>cosine_threshold,1,0)\n",
    "    for i in np.arange(np.shape(simi)[0]):\n",
    "        simi[i,i] = 0\n",
    "    G = nx.from_numpy_matrix(simi, create_using=nx.Graph())\n",
    "    # mark time similarity \n",
    "    for i in range(1,len(sessions)):\n",
    "        if (sessions.ix[i,'start'] - sessions.ix[i-1,'end']).total_seconds()/(60*60*3) < 1:  \n",
    "            G.add_edge(i,i-1)\n",
    "    return G"
   ]
  },
  {
   "cell_type": "code",
   "execution_count": 12,
   "metadata": {},
   "outputs": [],
   "source": [
    "def extract_network_topology(G, nodes = []):\n",
    "    if len(nodes):\n",
    "        G = G.subgraph(nodes)\n",
    "    default = {\"isolate_nodes\": np.nan, \"connected_nodes\":np.nan, \"density\":np.nan, 'total_nodes':np.nan}\n",
    "    default['isolate_nodes'] = len(nx.isolates(G))\n",
    "    default['total_nodes'] = len(G.nodes())\n",
    "    default['connected_nodes'] = default['total_nodes'] - default['isolate_nodes']\n",
    "    default['density'] = nx.density(G)\n",
    "    return default"
   ]
  },
  {
   "cell_type": "code",
   "execution_count": 13,
   "metadata": {},
   "outputs": [],
   "source": [
    "# data['year'] = data['timestamp'].apply(lambda x: x.year)\n",
    "# sessions['year'] = sessions['start'].apply(lambda x: x.year)\n",
    "\n",
    "# g = data.groupby('year')\n",
    "# bursts = {}\n",
    "# for key, df in g:\n",
    "#     bursts[key] = cal_burstiness(get_time_intervals(df))\n",
    "\n",
    "# bursts = pd.DataFrame([bursts.keys(), bursts.values()], index=['year','burst']).T\n",
    "\n",
    "# g = sessions.groupby('year')\n",
    "# network_info = []\n",
    "# for key, df in g:\n",
    "#     nodes = np.arange(0, max(df.index))\n",
    "#     network_info.append(extract_network_topology(G, nodes=nodes))\n",
    "\n",
    "# tmp = pd.DataFrame(network_info)\n",
    "\n",
    "# tmp['year'] = set(sessions.year)\n",
    "\n",
    "# tmp2 = pd.merge(bursts, tmp, 'left')\n",
    "\n",
    "# tmp2\n",
    "\n",
    "# tmp2.ix[1:,['burst','connected_nodes','isolate_nodes']].plot(secondary_y='burst')\n",
    "# plt.show()\n",
    "\n",
    "# tmp2.ix[1:,['burst', 'density']].plot(secondary_y='burst')\n",
    "# plt.show()"
   ]
  },
  {
   "cell_type": "markdown",
   "metadata": {},
   "source": [
    "## plot network dynamics"
   ]
  },
  {
   "cell_type": "code",
   "execution_count": 19,
   "metadata": {},
   "outputs": [],
   "source": [
    "#import matplotlib.pyplot as plt \n",
    "#import warnings\n",
    "warnings.filterwarnings('ignore')"
   ]
  },
  {
   "cell_type": "code",
   "execution_count": 20,
   "metadata": {},
   "outputs": [
    {
     "name": "stdout",
     "output_type": "stream",
     "text": [
      "JoshuacUK\n",
      "Tomhormby\n",
      "Maury Markowitz\n",
      "Letdorf\n",
      "SandyGeorgia\n"
     ]
    }
   ],
   "source": [
    "sessions = parse_user_session(file_path=\"./NeXT_5.txt\", N = 5)"
   ]
  },
  {
   "cell_type": "code",
   "execution_count": 21,
   "metadata": {},
   "outputs": [],
   "source": [
    "G = build_network(sessions,0.4)"
   ]
  },
  {
   "cell_type": "code",
   "execution_count": 22,
   "metadata": {},
   "outputs": [
    {
     "data": {
      "text/html": [
       "<div>\n",
       "<style>\n",
       "    .dataframe thead tr:only-child th {\n",
       "        text-align: right;\n",
       "    }\n",
       "\n",
       "    .dataframe thead th {\n",
       "        text-align: left;\n",
       "    }\n",
       "\n",
       "    .dataframe tbody tr th {\n",
       "        vertical-align: top;\n",
       "    }\n",
       "</style>\n",
       "<table border=\"1\" class=\"dataframe\">\n",
       "  <thead>\n",
       "    <tr style=\"text-align: right;\">\n",
       "      <th></th>\n",
       "      <th>changed_text</th>\n",
       "      <th>duration</th>\n",
       "      <th>edit_num</th>\n",
       "      <th>end</th>\n",
       "      <th>session_id</th>\n",
       "      <th>start</th>\n",
       "      <th>text_word_num</th>\n",
       "      <th>username</th>\n",
       "      <th>id</th>\n",
       "    </tr>\n",
       "  </thead>\n",
       "  <tbody>\n",
       "    <tr>\n",
       "      <th>0</th>\n",
       "      <td>[-The company founded by-] {+In 1985+} [-in 19...</td>\n",
       "      <td>39.566667</td>\n",
       "      <td>2</td>\n",
       "      <td>2002-05-31 09:42:36</td>\n",
       "      <td>0</td>\n",
       "      <td>2002-05-31 09:03:02</td>\n",
       "      <td>1058</td>\n",
       "      <td>Maury Markowitz</td>\n",
       "      <td>Maury Markowitz_0</td>\n",
       "    </tr>\n",
       "    <tr>\n",
       "      <th>1</th>\n",
       "      <td>[-Sculley]]-] {+Sculley]],+} [-University]], a...</td>\n",
       "      <td>NaN</td>\n",
       "      <td>1</td>\n",
       "      <td>2002-06-04 12:18:06</td>\n",
       "      <td>1</td>\n",
       "      <td>2002-06-04 12:18:06</td>\n",
       "      <td>561</td>\n",
       "      <td>Maury Markowitz</td>\n",
       "      <td>Maury Markowitz_1</td>\n",
       "    </tr>\n",
       "    <tr>\n",
       "      <th>2</th>\n",
       "      <td>{+the helm of+} [-Sculley]], which-] {+Sculley...</td>\n",
       "      <td>11.816667</td>\n",
       "      <td>2</td>\n",
       "      <td>2002-06-06 06:21:49</td>\n",
       "      <td>2</td>\n",
       "      <td>2002-06-06 06:10:00</td>\n",
       "      <td>647</td>\n",
       "      <td>Maury Markowitz</td>\n",
       "      <td>Maury Markowitz_2</td>\n",
       "    </tr>\n",
       "    <tr>\n",
       "      <th>3</th>\n",
       "      <td>{+\\n \\nThe solution to this problem today is t...</td>\n",
       "      <td>2.650000</td>\n",
       "      <td>4</td>\n",
       "      <td>2002-06-06 11:16:49</td>\n",
       "      <td>3</td>\n",
       "      <td>2002-06-06 11:14:10</td>\n",
       "      <td>338</td>\n",
       "      <td>Maury Markowitz</td>\n",
       "      <td>Maury Markowitz_3</td>\n",
       "    </tr>\n",
       "    <tr>\n",
       "      <th>4</th>\n",
       "      <td>[-This led to-] {+He was stripped of most of+}...</td>\n",
       "      <td>21.366667</td>\n",
       "      <td>5</td>\n",
       "      <td>2002-06-06 13:18:52</td>\n",
       "      <td>4</td>\n",
       "      <td>2002-06-06 12:57:30</td>\n",
       "      <td>308</td>\n",
       "      <td>Maury Markowitz</td>\n",
       "      <td>Maury Markowitz_4</td>\n",
       "    </tr>\n",
       "  </tbody>\n",
       "</table>\n",
       "</div>"
      ],
      "text/plain": [
       "                                        changed_text   duration  edit_num  \\\n",
       "0  [-The company founded by-] {+In 1985+} [-in 19...  39.566667         2   \n",
       "1  [-Sculley]]-] {+Sculley]],+} [-University]], a...        NaN         1   \n",
       "2  {+the helm of+} [-Sculley]], which-] {+Sculley...  11.816667         2   \n",
       "3  {+\\n \\nThe solution to this problem today is t...   2.650000         4   \n",
       "4  [-This led to-] {+He was stripped of most of+}...  21.366667         5   \n",
       "\n",
       "                  end  session_id               start  text_word_num  \\\n",
       "0 2002-05-31 09:42:36           0 2002-05-31 09:03:02           1058   \n",
       "1 2002-06-04 12:18:06           1 2002-06-04 12:18:06            561   \n",
       "2 2002-06-06 06:21:49           2 2002-06-06 06:10:00            647   \n",
       "3 2002-06-06 11:16:49           3 2002-06-06 11:14:10            338   \n",
       "4 2002-06-06 13:18:52           4 2002-06-06 12:57:30            308   \n",
       "\n",
       "          username                 id  \n",
       "0  Maury Markowitz  Maury Markowitz_0  \n",
       "1  Maury Markowitz  Maury Markowitz_1  \n",
       "2  Maury Markowitz  Maury Markowitz_2  \n",
       "3  Maury Markowitz  Maury Markowitz_3  \n",
       "4  Maury Markowitz  Maury Markowitz_4  "
      ]
     },
     "execution_count": 22,
     "metadata": {},
     "output_type": "execute_result"
    }
   ],
   "source": [
    "sessions.head()"
   ]
  },
  {
   "cell_type": "code",
   "execution_count": 23,
   "metadata": {},
   "outputs": [
    {
     "ename": "TypeError",
     "evalue": "object of type 'generator' has no len()",
     "output_type": "error",
     "traceback": [
      "\u001b[0;31m---------------------------------------------------------------------------\u001b[0m",
      "\u001b[0;31mTypeError\u001b[0m                                 Traceback (most recent call last)",
      "\u001b[0;32m<ipython-input-23-1adcbda57960>\u001b[0m in \u001b[0;36m<module>\u001b[0;34m()\u001b[0m\n\u001b[0;32m----> 1\u001b[0;31m \u001b[0mextract_network_topology\u001b[0m\u001b[0;34m(\u001b[0m\u001b[0mG\u001b[0m\u001b[0;34m)\u001b[0m\u001b[0;34m\u001b[0m\u001b[0m\n\u001b[0m",
      "\u001b[0;32m<ipython-input-12-34790a867344>\u001b[0m in \u001b[0;36mextract_network_topology\u001b[0;34m(G, nodes)\u001b[0m\n\u001b[1;32m      3\u001b[0m         \u001b[0mG\u001b[0m \u001b[0;34m=\u001b[0m \u001b[0mG\u001b[0m\u001b[0;34m.\u001b[0m\u001b[0msubgraph\u001b[0m\u001b[0;34m(\u001b[0m\u001b[0mnodes\u001b[0m\u001b[0;34m)\u001b[0m\u001b[0;34m\u001b[0m\u001b[0m\n\u001b[1;32m      4\u001b[0m     \u001b[0mdefault\u001b[0m \u001b[0;34m=\u001b[0m \u001b[0;34m{\u001b[0m\u001b[0;34m\"isolate_nodes\"\u001b[0m\u001b[0;34m:\u001b[0m \u001b[0mnp\u001b[0m\u001b[0;34m.\u001b[0m\u001b[0mnan\u001b[0m\u001b[0;34m,\u001b[0m \u001b[0;34m\"connected_nodes\"\u001b[0m\u001b[0;34m:\u001b[0m\u001b[0mnp\u001b[0m\u001b[0;34m.\u001b[0m\u001b[0mnan\u001b[0m\u001b[0;34m,\u001b[0m \u001b[0;34m\"density\"\u001b[0m\u001b[0;34m:\u001b[0m\u001b[0mnp\u001b[0m\u001b[0;34m.\u001b[0m\u001b[0mnan\u001b[0m\u001b[0;34m,\u001b[0m \u001b[0;34m'total_nodes'\u001b[0m\u001b[0;34m:\u001b[0m\u001b[0mnp\u001b[0m\u001b[0;34m.\u001b[0m\u001b[0mnan\u001b[0m\u001b[0;34m}\u001b[0m\u001b[0;34m\u001b[0m\u001b[0m\n\u001b[0;32m----> 5\u001b[0;31m     \u001b[0mdefault\u001b[0m\u001b[0;34m[\u001b[0m\u001b[0;34m'isolate_nodes'\u001b[0m\u001b[0;34m]\u001b[0m \u001b[0;34m=\u001b[0m \u001b[0mlen\u001b[0m\u001b[0;34m(\u001b[0m\u001b[0mnx\u001b[0m\u001b[0;34m.\u001b[0m\u001b[0misolates\u001b[0m\u001b[0;34m(\u001b[0m\u001b[0mG\u001b[0m\u001b[0;34m)\u001b[0m\u001b[0;34m)\u001b[0m\u001b[0;34m\u001b[0m\u001b[0m\n\u001b[0m\u001b[1;32m      6\u001b[0m     \u001b[0mdefault\u001b[0m\u001b[0;34m[\u001b[0m\u001b[0;34m'total_nodes'\u001b[0m\u001b[0;34m]\u001b[0m \u001b[0;34m=\u001b[0m \u001b[0mlen\u001b[0m\u001b[0;34m(\u001b[0m\u001b[0mG\u001b[0m\u001b[0;34m.\u001b[0m\u001b[0mnodes\u001b[0m\u001b[0;34m(\u001b[0m\u001b[0;34m)\u001b[0m\u001b[0;34m)\u001b[0m\u001b[0;34m\u001b[0m\u001b[0m\n\u001b[1;32m      7\u001b[0m     \u001b[0mdefault\u001b[0m\u001b[0;34m[\u001b[0m\u001b[0;34m'connected_nodes'\u001b[0m\u001b[0;34m]\u001b[0m \u001b[0;34m=\u001b[0m \u001b[0mdefault\u001b[0m\u001b[0;34m[\u001b[0m\u001b[0;34m'total_nodes'\u001b[0m\u001b[0;34m]\u001b[0m \u001b[0;34m-\u001b[0m \u001b[0mdefault\u001b[0m\u001b[0;34m[\u001b[0m\u001b[0;34m'isolate_nodes'\u001b[0m\u001b[0;34m]\u001b[0m\u001b[0;34m\u001b[0m\u001b[0m\n",
      "\u001b[0;31mTypeError\u001b[0m: object of type 'generator' has no len()"
     ]
    }
   ],
   "source": [
    "extract_network_topology(G)"
   ]
  },
  {
   "cell_type": "code",
   "execution_count": null,
   "metadata": {},
   "outputs": [],
   "source": [
    "N = 5\n",
    "mapping = dict(zip(set(sessions['username']), [plt.cm.Paired(c) for c in range(0,N)]))\n",
    "color = sessions['username'].map(mapping)"
   ]
  },
  {
   "cell_type": "code",
   "execution_count": null,
   "metadata": {},
   "outputs": [],
   "source": [
    "from networkx.drawing.nx_agraph import graphviz_layout"
   ]
  },
  {
   "cell_type": "code",
   "execution_count": null,
   "metadata": {},
   "outputs": [],
   "source": [
    "pos = graphviz_layout(G)"
   ]
  },
  {
   "cell_type": "code",
   "execution_count": null,
   "metadata": {},
   "outputs": [],
   "source": [
    "fig = plt.figure(figsize=(15,15))\n",
    "nx.draw_networkx(G, pos=pos, node_color=color)\n",
    "plt.show()"
   ]
  },
  {
   "cell_type": "code",
   "execution_count": null,
   "metadata": {},
   "outputs": [],
   "source": [
    "G[30]"
   ]
  },
  {
   "cell_type": "code",
   "execution_count": null,
   "metadata": {},
   "outputs": [],
   "source": [
    "sessions.ix[[30,136],:]"
   ]
  },
  {
   "cell_type": "code",
   "execution_count": null,
   "metadata": {},
   "outputs": [],
   "source": [
    "print(sessions.ix[30,'changed_text'])"
   ]
  },
  {
   "cell_type": "code",
   "execution_count": null,
   "metadata": {},
   "outputs": [],
   "source": [
    "print(sessions.ix[136,'changed_text'])"
   ]
  },
  {
   "cell_type": "code",
   "execution_count": null,
   "metadata": {},
   "outputs": [],
   "source": [
    "nodes_per_graph = len(G.nodes()) // 9\n",
    "fig = plt.figure(figsize=(25,25))\n",
    "cnt = 1\n",
    "for i in np.arange(nodes_per_graph,len(sessions),nodes_per_graph):\n",
    "    G1 = G.subgraph(np.arange(i))\n",
    "    fig.add_subplot(3,3,cnt)\n",
    "    nx.draw_networkx(G1, node_color=color.values[:i], with_labels=False, node_size=50, pos=pos)\n",
    "    plt.title(\"first %s edit sessions\" %i + \"  ends in \"+str(sessions.ix[i,'end'].date()) ,size=15, weight='bold')\n",
    "    frame1 = plt.gca()\n",
    "    frame1.get_xaxis().set_visible(False)\n",
    "    frame1.get_yaxis().set_visible(False)\n",
    "    cnt += 1\n",
    "# fig.savefig('/Users/Nico/Desktop/collaboration_network.png',dpi=300, bbox_inches='tight')\n",
    "plt.show()"
   ]
  },
  {
   "cell_type": "code",
   "execution_count": null,
   "metadata": {},
   "outputs": [],
   "source": [
    "plt.hist(G.degree().values(),bins=15)\n",
    "plt.show()"
   ]
  },
  {
   "cell_type": "code",
   "execution_count": null,
   "metadata": {},
   "outputs": [],
   "source": [
    "for i in nx.connected_components(G):\n",
    "    if len(i)>1:\n",
    "        print(len(i))\n",
    "        print(set(sessions.ix[i,'username']))\n",
    "        print(min(sessions.ix[i,'start']))\n",
    "        print(max(sessions.ix[i,'end']))\n",
    "        print(\"======\")"
   ]
  }
 ],
 "metadata": {
  "kernelspec": {
   "display_name": "Python 3",
   "language": "python",
   "name": "python3"
  },
  "language_info": {
   "codemirror_mode": {
    "name": "ipython",
    "version": 3
   },
   "file_extension": ".py",
   "mimetype": "text/x-python",
   "name": "python",
   "nbconvert_exporter": "python",
   "pygments_lexer": "ipython3",
   "version": "3.6.3"
  }
 },
 "nbformat": 4,
 "nbformat_minor": 2
}
